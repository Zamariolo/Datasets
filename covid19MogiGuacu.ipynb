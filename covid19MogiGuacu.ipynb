{
  "nbformat": 4,
  "nbformat_minor": 0,
  "metadata": {
    "colab": {
      "name": "covid19MogiGuacu.ipynb",
      "provenance": [],
      "collapsed_sections": [],
      "authorship_tag": "ABX9TyOYTS+hyBEFD40ZcKagr5L/",
      "include_colab_link": true
    },
    "kernelspec": {
      "name": "python3",
      "display_name": "Python 3"
    }
  },
  "cells": [
    {
      "cell_type": "markdown",
      "metadata": {
        "id": "view-in-github",
        "colab_type": "text"
      },
      "source": [
        "<a href=\"https://colab.research.google.com/github/Zamariolo/Datasets/blob/master/covid19MogiGuacu.ipynb\" target=\"_parent\"><img src=\"https://colab.research.google.com/assets/colab-badge.svg\" alt=\"Open In Colab\"/></a>"
      ]
    },
    {
      "cell_type": "markdown",
      "metadata": {
        "id": "KPdZEnDcvcE5",
        "colab_type": "text"
      },
      "source": [
        "# Análise dos dados de COVID-19 em Mogi Guaçu"
      ]
    },
    {
      "cell_type": "code",
      "metadata": {
        "id": "EHeSWPErvfzD",
        "colab_type": "code",
        "colab": {}
      },
      "source": [
        "import pandas as pd\n",
        "import matplotlib.pyplot as plt"
      ],
      "execution_count": 0,
      "outputs": []
    },
    {
      "cell_type": "code",
      "metadata": {
        "id": "uAOFbgc8vlGN",
        "colab_type": "code",
        "colab": {}
      },
      "source": [
        "dataset = pd.read_csv('https://raw.githubusercontent.com/Zamariolo/MogiOpenData/master/Dados/dadosCasosCOVIDMogiGuacu.csv')"
      ],
      "execution_count": 0,
      "outputs": []
    },
    {
      "cell_type": "code",
      "metadata": {
        "id": "LBBzrPu14UjS",
        "colab_type": "code",
        "outputId": "96b4c804-b086-46da-a318-93a117665da6",
        "colab": {
          "base_uri": "https://localhost:8080/",
          "height": 1000
        }
      },
      "source": [
        "dataset"
      ],
      "execution_count": 104,
      "outputs": [
        {
          "output_type": "execute_result",
          "data": {
            "text/html": [
              "<div>\n",
              "<style scoped>\n",
              "    .dataframe tbody tr th:only-of-type {\n",
              "        vertical-align: middle;\n",
              "    }\n",
              "\n",
              "    .dataframe tbody tr th {\n",
              "        vertical-align: top;\n",
              "    }\n",
              "\n",
              "    .dataframe thead th {\n",
              "        text-align: right;\n",
              "    }\n",
              "</style>\n",
              "<table border=\"1\" class=\"dataframe\">\n",
              "  <thead>\n",
              "    <tr style=\"text-align: right;\">\n",
              "      <th></th>\n",
              "      <th>Unnamed: 0</th>\n",
              "      <th>dia desde 1 contagio</th>\n",
              "      <th>data</th>\n",
              "      <th>casos</th>\n",
              "      <th>mortes</th>\n",
              "      <th>Ativos</th>\n",
              "      <th>confirmado por 100k hab</th>\n",
              "      <th>taxa morte contaminados</th>\n",
              "      <th>Curados</th>\n",
              "      <th>Casos negativos</th>\n",
              "      <th>Testes realizados</th>\n",
              "      <th>novosCasos</th>\n",
              "    </tr>\n",
              "  </thead>\n",
              "  <tbody>\n",
              "    <tr>\n",
              "      <th>0</th>\n",
              "      <td>0</td>\n",
              "      <td>1</td>\n",
              "      <td>30/03/2020</td>\n",
              "      <td>1</td>\n",
              "      <td>0</td>\n",
              "      <td>NaN</td>\n",
              "      <td>0,658379859</td>\n",
              "      <td>0</td>\n",
              "      <td>0.0</td>\n",
              "      <td>2</td>\n",
              "      <td>3</td>\n",
              "      <td>1</td>\n",
              "    </tr>\n",
              "    <tr>\n",
              "      <th>1</th>\n",
              "      <td>1</td>\n",
              "      <td>2</td>\n",
              "      <td>31/03/2020</td>\n",
              "      <td>1</td>\n",
              "      <td>0</td>\n",
              "      <td>NaN</td>\n",
              "      <td>0,658379859</td>\n",
              "      <td>0</td>\n",
              "      <td>NaN</td>\n",
              "      <td>3</td>\n",
              "      <td>4</td>\n",
              "      <td>0</td>\n",
              "    </tr>\n",
              "    <tr>\n",
              "      <th>2</th>\n",
              "      <td>2</td>\n",
              "      <td>3</td>\n",
              "      <td>01/04/2020</td>\n",
              "      <td>1</td>\n",
              "      <td>0</td>\n",
              "      <td>NaN</td>\n",
              "      <td>0,658379859</td>\n",
              "      <td>0</td>\n",
              "      <td>NaN</td>\n",
              "      <td>4</td>\n",
              "      <td>5</td>\n",
              "      <td>0</td>\n",
              "    </tr>\n",
              "    <tr>\n",
              "      <th>3</th>\n",
              "      <td>3</td>\n",
              "      <td>4</td>\n",
              "      <td>02/04/2020</td>\n",
              "      <td>1</td>\n",
              "      <td>0</td>\n",
              "      <td>NaN</td>\n",
              "      <td>0,658379859</td>\n",
              "      <td>0</td>\n",
              "      <td>NaN</td>\n",
              "      <td>7</td>\n",
              "      <td>8</td>\n",
              "      <td>0</td>\n",
              "    </tr>\n",
              "    <tr>\n",
              "      <th>4</th>\n",
              "      <td>4</td>\n",
              "      <td>5</td>\n",
              "      <td>03/04/2020</td>\n",
              "      <td>1</td>\n",
              "      <td>0</td>\n",
              "      <td>NaN</td>\n",
              "      <td>0,658379859</td>\n",
              "      <td>0</td>\n",
              "      <td>NaN</td>\n",
              "      <td>9</td>\n",
              "      <td>10</td>\n",
              "      <td>0</td>\n",
              "    </tr>\n",
              "    <tr>\n",
              "      <th>5</th>\n",
              "      <td>5</td>\n",
              "      <td>6</td>\n",
              "      <td>04/04/2020</td>\n",
              "      <td>1</td>\n",
              "      <td>0</td>\n",
              "      <td>NaN</td>\n",
              "      <td>0,658379859</td>\n",
              "      <td>0</td>\n",
              "      <td>NaN</td>\n",
              "      <td>9</td>\n",
              "      <td>10</td>\n",
              "      <td>0</td>\n",
              "    </tr>\n",
              "    <tr>\n",
              "      <th>6</th>\n",
              "      <td>6</td>\n",
              "      <td>7</td>\n",
              "      <td>05/04/2020</td>\n",
              "      <td>1</td>\n",
              "      <td>0</td>\n",
              "      <td>NaN</td>\n",
              "      <td>0,658379859</td>\n",
              "      <td>0</td>\n",
              "      <td>NaN</td>\n",
              "      <td>9</td>\n",
              "      <td>10</td>\n",
              "      <td>0</td>\n",
              "    </tr>\n",
              "    <tr>\n",
              "      <th>7</th>\n",
              "      <td>7</td>\n",
              "      <td>8</td>\n",
              "      <td>06/04/2020</td>\n",
              "      <td>2</td>\n",
              "      <td>0</td>\n",
              "      <td>NaN</td>\n",
              "      <td>1,316759718</td>\n",
              "      <td>0</td>\n",
              "      <td>NaN</td>\n",
              "      <td>16</td>\n",
              "      <td>18</td>\n",
              "      <td>1</td>\n",
              "    </tr>\n",
              "    <tr>\n",
              "      <th>8</th>\n",
              "      <td>8</td>\n",
              "      <td>9</td>\n",
              "      <td>07/04/2020</td>\n",
              "      <td>2</td>\n",
              "      <td>1</td>\n",
              "      <td>NaN</td>\n",
              "      <td>1,316759718</td>\n",
              "      <td>0,5</td>\n",
              "      <td>NaN</td>\n",
              "      <td>17</td>\n",
              "      <td>19</td>\n",
              "      <td>0</td>\n",
              "    </tr>\n",
              "    <tr>\n",
              "      <th>9</th>\n",
              "      <td>9</td>\n",
              "      <td>10</td>\n",
              "      <td>08/04/2020</td>\n",
              "      <td>4</td>\n",
              "      <td>1</td>\n",
              "      <td>NaN</td>\n",
              "      <td>2,633519435</td>\n",
              "      <td>0,25</td>\n",
              "      <td>NaN</td>\n",
              "      <td>22</td>\n",
              "      <td>26</td>\n",
              "      <td>2</td>\n",
              "    </tr>\n",
              "    <tr>\n",
              "      <th>10</th>\n",
              "      <td>10</td>\n",
              "      <td>11</td>\n",
              "      <td>09/04/2020</td>\n",
              "      <td>6</td>\n",
              "      <td>1</td>\n",
              "      <td>NaN</td>\n",
              "      <td>3,950279153</td>\n",
              "      <td>0,166666667</td>\n",
              "      <td>NaN</td>\n",
              "      <td>25</td>\n",
              "      <td>31</td>\n",
              "      <td>2</td>\n",
              "    </tr>\n",
              "    <tr>\n",
              "      <th>11</th>\n",
              "      <td>11</td>\n",
              "      <td>12</td>\n",
              "      <td>10/04/2020</td>\n",
              "      <td>9</td>\n",
              "      <td>1</td>\n",
              "      <td>NaN</td>\n",
              "      <td>5,92541873</td>\n",
              "      <td>0,111111111</td>\n",
              "      <td>NaN</td>\n",
              "      <td>25</td>\n",
              "      <td>34</td>\n",
              "      <td>3</td>\n",
              "    </tr>\n",
              "    <tr>\n",
              "      <th>12</th>\n",
              "      <td>12</td>\n",
              "      <td>13</td>\n",
              "      <td>11/04/2020</td>\n",
              "      <td>10</td>\n",
              "      <td>1</td>\n",
              "      <td>NaN</td>\n",
              "      <td>6,583798588</td>\n",
              "      <td>0,1</td>\n",
              "      <td>NaN</td>\n",
              "      <td>26</td>\n",
              "      <td>36</td>\n",
              "      <td>1</td>\n",
              "    </tr>\n",
              "    <tr>\n",
              "      <th>13</th>\n",
              "      <td>13</td>\n",
              "      <td>14</td>\n",
              "      <td>12/04/2020</td>\n",
              "      <td>10</td>\n",
              "      <td>1</td>\n",
              "      <td>NaN</td>\n",
              "      <td>6,583798588</td>\n",
              "      <td>0,1</td>\n",
              "      <td>NaN</td>\n",
              "      <td>26</td>\n",
              "      <td>36</td>\n",
              "      <td>0</td>\n",
              "    </tr>\n",
              "    <tr>\n",
              "      <th>14</th>\n",
              "      <td>14</td>\n",
              "      <td>15</td>\n",
              "      <td>13/04/2020</td>\n",
              "      <td>10</td>\n",
              "      <td>1</td>\n",
              "      <td>NaN</td>\n",
              "      <td>6,583798588</td>\n",
              "      <td>0,1</td>\n",
              "      <td>NaN</td>\n",
              "      <td>30</td>\n",
              "      <td>40</td>\n",
              "      <td>0</td>\n",
              "    </tr>\n",
              "    <tr>\n",
              "      <th>15</th>\n",
              "      <td>15</td>\n",
              "      <td>16</td>\n",
              "      <td>14/04/2020</td>\n",
              "      <td>10</td>\n",
              "      <td>1</td>\n",
              "      <td>NaN</td>\n",
              "      <td>6,583798588</td>\n",
              "      <td>0,1</td>\n",
              "      <td>NaN</td>\n",
              "      <td>34</td>\n",
              "      <td>44</td>\n",
              "      <td>0</td>\n",
              "    </tr>\n",
              "    <tr>\n",
              "      <th>16</th>\n",
              "      <td>16</td>\n",
              "      <td>17</td>\n",
              "      <td>15/04/2020</td>\n",
              "      <td>12</td>\n",
              "      <td>1</td>\n",
              "      <td>NaN</td>\n",
              "      <td>7,900558306</td>\n",
              "      <td>0,083333333</td>\n",
              "      <td>NaN</td>\n",
              "      <td>41</td>\n",
              "      <td>53</td>\n",
              "      <td>2</td>\n",
              "    </tr>\n",
              "    <tr>\n",
              "      <th>17</th>\n",
              "      <td>17</td>\n",
              "      <td>18</td>\n",
              "      <td>16/04/2020</td>\n",
              "      <td>13</td>\n",
              "      <td>1</td>\n",
              "      <td>4.0</td>\n",
              "      <td>8,558938165</td>\n",
              "      <td>0,076923077</td>\n",
              "      <td>8.0</td>\n",
              "      <td>49</td>\n",
              "      <td>62</td>\n",
              "      <td>1</td>\n",
              "    </tr>\n",
              "    <tr>\n",
              "      <th>18</th>\n",
              "      <td>18</td>\n",
              "      <td>19</td>\n",
              "      <td>17/04/2020</td>\n",
              "      <td>14</td>\n",
              "      <td>1</td>\n",
              "      <td>5.0</td>\n",
              "      <td>9,217318024</td>\n",
              "      <td>0,071428571</td>\n",
              "      <td>8.0</td>\n",
              "      <td>57</td>\n",
              "      <td>71</td>\n",
              "      <td>1</td>\n",
              "    </tr>\n",
              "    <tr>\n",
              "      <th>19</th>\n",
              "      <td>19</td>\n",
              "      <td>20</td>\n",
              "      <td>18/04/2020</td>\n",
              "      <td>14</td>\n",
              "      <td>1</td>\n",
              "      <td>3.0</td>\n",
              "      <td>9,217318024</td>\n",
              "      <td>0,071428571</td>\n",
              "      <td>10.0</td>\n",
              "      <td>57</td>\n",
              "      <td>71</td>\n",
              "      <td>0</td>\n",
              "    </tr>\n",
              "    <tr>\n",
              "      <th>20</th>\n",
              "      <td>20</td>\n",
              "      <td>21</td>\n",
              "      <td>19/04/2020</td>\n",
              "      <td>14</td>\n",
              "      <td>1</td>\n",
              "      <td>3.0</td>\n",
              "      <td>9,333333333</td>\n",
              "      <td>0,071428571</td>\n",
              "      <td>10.0</td>\n",
              "      <td>57</td>\n",
              "      <td>71</td>\n",
              "      <td>0</td>\n",
              "    </tr>\n",
              "    <tr>\n",
              "      <th>21</th>\n",
              "      <td>21</td>\n",
              "      <td>22</td>\n",
              "      <td>20/04/2020</td>\n",
              "      <td>14</td>\n",
              "      <td>1</td>\n",
              "      <td>3.0</td>\n",
              "      <td>9,333333333</td>\n",
              "      <td>0,071428571</td>\n",
              "      <td>10.0</td>\n",
              "      <td>65</td>\n",
              "      <td>79</td>\n",
              "      <td>0</td>\n",
              "    </tr>\n",
              "    <tr>\n",
              "      <th>22</th>\n",
              "      <td>22</td>\n",
              "      <td>23</td>\n",
              "      <td>21/04/2020</td>\n",
              "      <td>18</td>\n",
              "      <td>1</td>\n",
              "      <td>4.0</td>\n",
              "      <td>12</td>\n",
              "      <td>0,055555556</td>\n",
              "      <td>13.0</td>\n",
              "      <td>67</td>\n",
              "      <td>85</td>\n",
              "      <td>4</td>\n",
              "    </tr>\n",
              "    <tr>\n",
              "      <th>23</th>\n",
              "      <td>23</td>\n",
              "      <td>24</td>\n",
              "      <td>22/04/2020</td>\n",
              "      <td>20</td>\n",
              "      <td>1</td>\n",
              "      <td>3.0</td>\n",
              "      <td>13,33333333</td>\n",
              "      <td>0,05</td>\n",
              "      <td>16.0</td>\n",
              "      <td>79</td>\n",
              "      <td>99</td>\n",
              "      <td>2</td>\n",
              "    </tr>\n",
              "    <tr>\n",
              "      <th>24</th>\n",
              "      <td>24</td>\n",
              "      <td>25</td>\n",
              "      <td>23/04/2020</td>\n",
              "      <td>24</td>\n",
              "      <td>1</td>\n",
              "      <td>5.0</td>\n",
              "      <td>16</td>\n",
              "      <td>0,041666667</td>\n",
              "      <td>18.0</td>\n",
              "      <td>89</td>\n",
              "      <td>113</td>\n",
              "      <td>4</td>\n",
              "    </tr>\n",
              "    <tr>\n",
              "      <th>25</th>\n",
              "      <td>25</td>\n",
              "      <td>26</td>\n",
              "      <td>24/04/2020</td>\n",
              "      <td>26</td>\n",
              "      <td>1</td>\n",
              "      <td>7.0</td>\n",
              "      <td>17,33333333</td>\n",
              "      <td>0,038461538</td>\n",
              "      <td>18.0</td>\n",
              "      <td>91</td>\n",
              "      <td>117</td>\n",
              "      <td>2</td>\n",
              "    </tr>\n",
              "    <tr>\n",
              "      <th>26</th>\n",
              "      <td>26</td>\n",
              "      <td>27</td>\n",
              "      <td>25/04/2020</td>\n",
              "      <td>27</td>\n",
              "      <td>1</td>\n",
              "      <td>8.0</td>\n",
              "      <td>17,77</td>\n",
              "      <td>0,037037037</td>\n",
              "      <td>18.0</td>\n",
              "      <td>95</td>\n",
              "      <td>122</td>\n",
              "      <td>1</td>\n",
              "    </tr>\n",
              "    <tr>\n",
              "      <th>27</th>\n",
              "      <td>27</td>\n",
              "      <td>28</td>\n",
              "      <td>26/04/2020</td>\n",
              "      <td>27</td>\n",
              "      <td>1</td>\n",
              "      <td>8.0</td>\n",
              "      <td>17,77</td>\n",
              "      <td>0,037037037</td>\n",
              "      <td>18.0</td>\n",
              "      <td>95</td>\n",
              "      <td>122</td>\n",
              "      <td>0</td>\n",
              "    </tr>\n",
              "    <tr>\n",
              "      <th>28</th>\n",
              "      <td>28</td>\n",
              "      <td>29</td>\n",
              "      <td>27/04/2020</td>\n",
              "      <td>27</td>\n",
              "      <td>1</td>\n",
              "      <td>4.0</td>\n",
              "      <td>17,77</td>\n",
              "      <td>0,037037037</td>\n",
              "      <td>22.0</td>\n",
              "      <td>105</td>\n",
              "      <td>132</td>\n",
              "      <td>0</td>\n",
              "    </tr>\n",
              "    <tr>\n",
              "      <th>29</th>\n",
              "      <td>29</td>\n",
              "      <td>30</td>\n",
              "      <td>28/04/2020</td>\n",
              "      <td>28</td>\n",
              "      <td>1</td>\n",
              "      <td>3.0</td>\n",
              "      <td>18,43</td>\n",
              "      <td>0,035714286</td>\n",
              "      <td>24.0</td>\n",
              "      <td>106</td>\n",
              "      <td>134</td>\n",
              "      <td>1</td>\n",
              "    </tr>\n",
              "    <tr>\n",
              "      <th>30</th>\n",
              "      <td>30</td>\n",
              "      <td>31</td>\n",
              "      <td>29/04/2020</td>\n",
              "      <td>30</td>\n",
              "      <td>1</td>\n",
              "      <td>5.0</td>\n",
              "      <td>19,75</td>\n",
              "      <td>0,033333333</td>\n",
              "      <td>24.0</td>\n",
              "      <td>107</td>\n",
              "      <td>137</td>\n",
              "      <td>2</td>\n",
              "    </tr>\n",
              "    <tr>\n",
              "      <th>31</th>\n",
              "      <td>31</td>\n",
              "      <td>32</td>\n",
              "      <td>30/04/2020</td>\n",
              "      <td>32</td>\n",
              "      <td>1</td>\n",
              "      <td>4.0</td>\n",
              "      <td>21,07</td>\n",
              "      <td>0,03125</td>\n",
              "      <td>27.0</td>\n",
              "      <td>107</td>\n",
              "      <td>139</td>\n",
              "      <td>2</td>\n",
              "    </tr>\n",
              "    <tr>\n",
              "      <th>32</th>\n",
              "      <td>32</td>\n",
              "      <td>33</td>\n",
              "      <td>01/05/2020</td>\n",
              "      <td>32</td>\n",
              "      <td>1</td>\n",
              "      <td>3.0</td>\n",
              "      <td>21,07</td>\n",
              "      <td>0,03125</td>\n",
              "      <td>28.0</td>\n",
              "      <td>109</td>\n",
              "      <td>141</td>\n",
              "      <td>0</td>\n",
              "    </tr>\n",
              "  </tbody>\n",
              "</table>\n",
              "</div>"
            ],
            "text/plain": [
              "    Unnamed: 0  dia desde 1 contagio  ... Testes realizados  novosCasos\n",
              "0            0                     1  ...                 3           1\n",
              "1            1                     2  ...                 4           0\n",
              "2            2                     3  ...                 5           0\n",
              "3            3                     4  ...                 8           0\n",
              "4            4                     5  ...                10           0\n",
              "5            5                     6  ...                10           0\n",
              "6            6                     7  ...                10           0\n",
              "7            7                     8  ...                18           1\n",
              "8            8                     9  ...                19           0\n",
              "9            9                    10  ...                26           2\n",
              "10          10                    11  ...                31           2\n",
              "11          11                    12  ...                34           3\n",
              "12          12                    13  ...                36           1\n",
              "13          13                    14  ...                36           0\n",
              "14          14                    15  ...                40           0\n",
              "15          15                    16  ...                44           0\n",
              "16          16                    17  ...                53           2\n",
              "17          17                    18  ...                62           1\n",
              "18          18                    19  ...                71           1\n",
              "19          19                    20  ...                71           0\n",
              "20          20                    21  ...                71           0\n",
              "21          21                    22  ...                79           0\n",
              "22          22                    23  ...                85           4\n",
              "23          23                    24  ...                99           2\n",
              "24          24                    25  ...               113           4\n",
              "25          25                    26  ...               117           2\n",
              "26          26                    27  ...               122           1\n",
              "27          27                    28  ...               122           0\n",
              "28          28                    29  ...               132           0\n",
              "29          29                    30  ...               134           1\n",
              "30          30                    31  ...               137           2\n",
              "31          31                    32  ...               139           2\n",
              "32          32                    33  ...               141           0\n",
              "\n",
              "[33 rows x 12 columns]"
            ]
          },
          "metadata": {
            "tags": []
          },
          "execution_count": 104
        }
      ]
    },
    {
      "cell_type": "markdown",
      "metadata": {
        "id": "jpinj4_R6-yw",
        "colab_type": "text"
      },
      "source": [
        "# Quando foi a última atualização dos dados aqui atualizados?"
      ]
    },
    {
      "cell_type": "code",
      "metadata": {
        "id": "WAfdWbRQ7DBw",
        "colab_type": "code",
        "outputId": "58016efc-6a3e-4e71-b86d-b538ea692a39",
        "colab": {
          "base_uri": "https://localhost:8080/",
          "height": 34
        }
      },
      "source": [
        "print(\"Dados atualizados em: %s\" %dataset['data'].max())"
      ],
      "execution_count": 105,
      "outputs": [
        {
          "output_type": "stream",
          "text": [
            "Dados atualizados em: 31/03/2020\n"
          ],
          "name": "stdout"
        }
      ]
    },
    {
      "cell_type": "markdown",
      "metadata": {
        "id": "x8XJilYcvvI_",
        "colab_type": "text"
      },
      "source": [
        "# Quem coleta e como são coletados os dados de isolamento em Mogi Guaçu?"
      ]
    },
    {
      "cell_type": "markdown",
      "metadata": {
        "id": "BYiADk4Fyqrm",
        "colab_type": "text"
      },
      "source": [
        "Os dados são obtidos através boletins oficiais da prefeitura de Mogi Guaçu nas redes sociais, dada a velocidade de atualização e em seguida verificados com os dados do Ministério da Saúde. Não estão considerados nos dados nenhuma informação sobre casos suspeitos, apenas casos testados.\n",
        "\n"
      ]
    },
    {
      "cell_type": "markdown",
      "metadata": {
        "id": "ViKvajOfv2rN",
        "colab_type": "text"
      },
      "source": [
        "# Quais são as informações contidas nestes dados?"
      ]
    },
    {
      "cell_type": "code",
      "metadata": {
        "id": "x5XbdHUsv52q",
        "colab_type": "code",
        "outputId": "75608f87-f865-45f4-9b43-034ef6eb01f5",
        "colab": {
          "base_uri": "https://localhost:8080/",
          "height": 159
        }
      },
      "source": [
        "dataset.head(3)"
      ],
      "execution_count": 106,
      "outputs": [
        {
          "output_type": "execute_result",
          "data": {
            "text/html": [
              "<div>\n",
              "<style scoped>\n",
              "    .dataframe tbody tr th:only-of-type {\n",
              "        vertical-align: middle;\n",
              "    }\n",
              "\n",
              "    .dataframe tbody tr th {\n",
              "        vertical-align: top;\n",
              "    }\n",
              "\n",
              "    .dataframe thead th {\n",
              "        text-align: right;\n",
              "    }\n",
              "</style>\n",
              "<table border=\"1\" class=\"dataframe\">\n",
              "  <thead>\n",
              "    <tr style=\"text-align: right;\">\n",
              "      <th></th>\n",
              "      <th>Unnamed: 0</th>\n",
              "      <th>dia desde 1 contagio</th>\n",
              "      <th>data</th>\n",
              "      <th>casos</th>\n",
              "      <th>mortes</th>\n",
              "      <th>Ativos</th>\n",
              "      <th>confirmado por 100k hab</th>\n",
              "      <th>taxa morte contaminados</th>\n",
              "      <th>Curados</th>\n",
              "      <th>Casos negativos</th>\n",
              "      <th>Testes realizados</th>\n",
              "      <th>novosCasos</th>\n",
              "    </tr>\n",
              "  </thead>\n",
              "  <tbody>\n",
              "    <tr>\n",
              "      <th>0</th>\n",
              "      <td>0</td>\n",
              "      <td>1</td>\n",
              "      <td>30/03/2020</td>\n",
              "      <td>1</td>\n",
              "      <td>0</td>\n",
              "      <td>NaN</td>\n",
              "      <td>0,658379859</td>\n",
              "      <td>0</td>\n",
              "      <td>0.0</td>\n",
              "      <td>2</td>\n",
              "      <td>3</td>\n",
              "      <td>1</td>\n",
              "    </tr>\n",
              "    <tr>\n",
              "      <th>1</th>\n",
              "      <td>1</td>\n",
              "      <td>2</td>\n",
              "      <td>31/03/2020</td>\n",
              "      <td>1</td>\n",
              "      <td>0</td>\n",
              "      <td>NaN</td>\n",
              "      <td>0,658379859</td>\n",
              "      <td>0</td>\n",
              "      <td>NaN</td>\n",
              "      <td>3</td>\n",
              "      <td>4</td>\n",
              "      <td>0</td>\n",
              "    </tr>\n",
              "    <tr>\n",
              "      <th>2</th>\n",
              "      <td>2</td>\n",
              "      <td>3</td>\n",
              "      <td>01/04/2020</td>\n",
              "      <td>1</td>\n",
              "      <td>0</td>\n",
              "      <td>NaN</td>\n",
              "      <td>0,658379859</td>\n",
              "      <td>0</td>\n",
              "      <td>NaN</td>\n",
              "      <td>4</td>\n",
              "      <td>5</td>\n",
              "      <td>0</td>\n",
              "    </tr>\n",
              "  </tbody>\n",
              "</table>\n",
              "</div>"
            ],
            "text/plain": [
              "   Unnamed: 0  dia desde 1 contagio  ... Testes realizados  novosCasos\n",
              "0           0                     1  ...                 3           1\n",
              "1           1                     2  ...                 4           0\n",
              "2           2                     3  ...                 5           0\n",
              "\n",
              "[3 rows x 12 columns]"
            ]
          },
          "metadata": {
            "tags": []
          },
          "execution_count": 106
        }
      ]
    },
    {
      "cell_type": "markdown",
      "metadata": {
        "id": "SFrGKbVwv-on",
        "colab_type": "text"
      },
      "source": [
        "\n",
        "\n",
        "*   **dia desde 1 contagio**: Contagem dos dias desde o primeiro contagio confirmado na cidade;\n",
        "*   **data**: Data da informação;\n",
        "*   **casos**: Casos acumulados de COVID-19 confirmados (inclui os casos ativos, mortes e pessoas curadas);\n",
        "*   **mortes**: Número de mortes que testaram positivo para COVID-19;\n",
        "*   **Ativos**: Número de pessoas que testaram positivo pela COVID-19, estão ou não internadas (casos totais - mortes - curados);\n",
        "*   **confirmado por 100k hab**: Número de casos acumulados (coluna casos) para cada 100 mil habitantes;\n",
        "*   **taxa morte contaminados**: Taxa de casos que terminaram em morte dado o numéro total de casos;\n",
        "*   **Curados**: número de pessoas que testaram positivo para COVID-19 e se recuperaram;\n",
        "*   **Casos negativos**: Quantidade de pessoas que testaram negativo para COVID-19;\n",
        "*   **Testes realizados**: Quantidade total de testes realizados (testes positivos + testes negativos).\n",
        "\n"
      ]
    },
    {
      "cell_type": "markdown",
      "metadata": {
        "id": "0tA07_XUzlR4",
        "colab_type": "text"
      },
      "source": [
        "# Como está o histórico de casos?"
      ]
    },
    {
      "cell_type": "code",
      "metadata": {
        "id": "gYbt3BNbzrBA",
        "colab_type": "code",
        "outputId": "6f202f2a-bbf2-41c4-c6f0-f240cdc53b03",
        "colab": {
          "base_uri": "https://localhost:8080/",
          "height": 559
        }
      },
      "source": [
        "plt.figure(figsize=(16,8))\n",
        "\n",
        "plt.plot(dataset['data'], dataset['casos'], '.', markersize=18, color='darkviolet', label='Casos')\n",
        "plt.plot(dataset['data'], dataset['Ativos'], '.', color='red', label=\"Casos ativos\", markersize=10)\n",
        "\n",
        "plt.plot(dataset['data'], dataset['casos'], '--', alpha=0.15, color='darkviolet')\n",
        "plt.plot(dataset['data'], dataset['Ativos'], '--', color='red', linewidth=4, alpha=0.2)\n",
        "plt.plot(dataset['data'], dataset['mortes'],'k', linewidth=4, label='Mortes')\n",
        "plt.xlabel(\"Data\", fontsize=15)\n",
        "plt.ylabel(\"Casos\", fontsize=15)\n",
        "plt.title(\"COVID-19 Mogi Guaçu\", fontsize=17)\n",
        "plt.grid(alpha=0.1, color='dimgray')\n",
        "plt.xticks(dataset['data'], rotation=315)\n",
        "plt.legend(fancybox=True, prop={'size': 15})\n",
        "\n",
        "plt.show()"
      ],
      "execution_count": 107,
      "outputs": [
        {
          "output_type": "display_data",
          "data": {
            "image/png": "[encoded data removed]",
            "text/plain": [
              "<Figure size 1152x576 with 1 Axes>"
            ]
          },
          "metadata": {
            "tags": [],
            "needs_background": "light"
          }
        }
      ]
    },
    {
      "cell_type": "markdown",
      "metadata": {
        "id": "lVCTdLBy0A1b",
        "colab_type": "text"
      },
      "source": [
        "# Histórico de testes realizados"
      ]
    },
    {
      "cell_type": "code",
      "metadata": {
        "id": "l0y6yAaP0Deo",
        "colab_type": "code",
        "colab": {
          "base_uri": "https://localhost:8080/",
          "height": 559
        },
        "outputId": "3d098acb-387a-4609-c6d4-9301cd1f7726"
      },
      "source": [
        "plt.figure(figsize=(16,8))\n",
        "\n",
        "plt.step(dataset['data'], dataset['Testes realizados'], color='indigo', linewidth=6)\n",
        "plt.xticks(dataset['data'], rotation=315)\n",
        "plt.grid(alpha=0.1, color='dimgray')\n",
        "plt.ylabel(\"Testes realizados\", fontsize=15)\n",
        "plt.xlabel(\"Data\", fontsize=15)\n",
        "plt.title(\"Testes de COVID-19 com resultados em Mogi Guaçu\", fontsize=17)\n",
        "plt.show()"
      ],
      "execution_count": 108,
      "outputs": [
        {
          "output_type": "display_data",
          "data": {
            "image/png": "[encoded data removed]",
            "text/plain": [
              "<Figure size 1152x576 with 1 Axes>"
            ]
          },
          "metadata": {
            "tags": [],
            "needs_background": "light"
          }
        }
      ]
    },
    {
      "cell_type": "code",
      "metadata": {
        "id": "LXDGW7vm0Nb5",
        "colab_type": "code",
        "colab": {}
      },
      "source": [
        ""
      ],
      "execution_count": 0,
      "outputs": []
    },
    {
      "cell_type": "markdown",
      "metadata": {
        "id": "8Z33S2HK1pwE",
        "colab_type": "text"
      },
      "source": [
        "# Considerando desde o primeiro contágio quantos casos novos ocorreram por dia?"
      ]
    },
    {
      "cell_type": "code",
      "metadata": {
        "id": "NZa0K5TW10H3",
        "colab_type": "code",
        "colab": {
          "base_uri": "https://localhost:8080/",
          "height": 34
        },
        "outputId": "3fb05603-52b3-422d-a914-26a46938e4b2"
      },
      "source": [
        "casosTotais = dataset['casos'].max()\n",
        "diasDesde1Contagio = dataset['dia desde 1 contagio'].max()\n",
        "print(\"Ocorreram em média %.1f novos casos por dia\" %(casosTotais/diasDesde1Contagio))"
      ],
      "execution_count": 109,
      "outputs": [
        {
          "output_type": "stream",
          "text": [
            "Ocorreram em média 1.0 novos casos por dia\n"
          ],
          "name": "stdout"
        }
      ]
    },
    {
      "cell_type": "markdown",
      "metadata": {
        "id": "b59Hwr4w2XBo",
        "colab_type": "text"
      },
      "source": [
        "# Considerando os últimos 7 dias, em média, quantos novos casos ocorreram por dia?"
      ]
    },
    {
      "cell_type": "code",
      "metadata": {
        "id": "n2NXKgH62cWH",
        "colab_type": "code",
        "colab": {
          "base_uri": "https://localhost:8080/",
          "height": 34
        },
        "outputId": "635442b1-cf36-47ef-8e89-567004bbdb74"
      },
      "source": [
        "dados = dataset[-7:]\n",
        "novosCasos = dados['casos'].max() - dados['casos'].min()\n",
        "print(\"Nos ultimos 7 dias ocorreram, em média, %.1f novos casos por dia\" %(novosCasos/7))"
      ],
      "execution_count": 110,
      "outputs": [
        {
          "output_type": "stream",
          "text": [
            "Nos ultimos 7 dias ocorreram, em média, 0.7 novos casos por dia\n"
          ],
          "name": "stdout"
        }
      ]
    },
    {
      "cell_type": "markdown",
      "metadata": {
        "id": "Z7vYz75q3rJo",
        "colab_type": "text"
      },
      "source": [
        "# O número de novos casos está aumentando com o tempo?"
      ]
    },
    {
      "cell_type": "code",
      "metadata": {
        "id": "ATbgBbu_3wKm",
        "colab_type": "code",
        "colab": {
          "base_uri": "https://localhost:8080/",
          "height": 559
        },
        "outputId": "6000db5f-df3d-4e96-8e4f-4c973091b6a2"
      },
      "source": [
        "plt.figure(figsize=(16,8))\n",
        "plt.step(dataset['data'], dataset['novosCasos'], label=\"Casos positivos\", color='indigo', linewidth=5)\n",
        "plt.axhline(dataset['novosCasos'].mean(), linestyle='--', label=\"Média diária de novos casos\", color='red', linewidth=2)\n",
        "plt.xlabel(\"Data\", fontsize=15)\n",
        "plt.ylabel(\"Novos casos\", fontsize=15)\n",
        "plt.grid(alpha=0.1, color='dimgray')\n",
        "plt.legend(fontsize=13)\n",
        "plt.title(\"Novos casos confirmados de COVID-19 por dia\", fontsize=17)\n",
        "plt.xticks(dataset['data'], rotation=315)\n",
        "plt.show()"
      ],
      "execution_count": 111,
      "outputs": [
        {
          "output_type": "display_data",
          "data": {
            "image/png": "[encoded data removed]",
            "text/plain": [
              "<Figure size 1152x576 with 1 Axes>"
            ]
          },
          "metadata": {
            "tags": [],
            "needs_background": "light"
          }
        }
      ]
    },
    {
      "cell_type": "code",
      "metadata": {
        "id": "SWLHCZZg5SHf",
        "colab_type": "code",
        "colab": {}
      },
      "source": [
        ""
      ],
      "execution_count": 0,
      "outputs": []
    }
  ]
}