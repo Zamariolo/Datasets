{
  "nbformat": 4,
  "nbformat_minor": 0,
  "metadata": {
    "colab": {
      "name": "Isolamento MG.ipynb",
      "provenance": [],
      "collapsed_sections": [],
      "authorship_tag": "ABX9TyPgg7NmthJYDMw88G870bpJ",
      "include_colab_link": true
    },
    "kernelspec": {
      "name": "python3",
      "display_name": "Python 3"
    }
  },
  "cells": [
    {
      "cell_type": "markdown",
      "metadata": {
        "id": "view-in-github",
        "colab_type": "text"
      },
      "source": [
        "<a href=\"https://colab.research.google.com/github/Zamariolo/Datasets/blob/master/Isolamento_MG.ipynb\" target=\"_parent\"><img src=\"https://colab.research.google.com/assets/colab-badge.svg\" alt=\"Open In Colab\"/></a>"
      ]
    },
    {
      "cell_type": "markdown",
      "metadata": {
        "id": "9RVSsLhXnDtN",
        "colab_type": "text"
      },
      "source": [
        "# Análise dos dados de isolamento da cidade de Mogi Guaçu"
      ]
    },
    {
      "cell_type": "code",
      "metadata": {
        "id": "ecqHjePQSvK_",
        "colab_type": "code",
        "colab": {}
      },
      "source": [
        "#Importando bibliotecas\n",
        "import pandas as pd\n",
        "import matplotlib.pyplot as plt\n",
        "import seaborn as sns\n",
        "from datetime import date"
      ],
      "execution_count": 0,
      "outputs": []
    },
    {
      "cell_type": "code",
      "metadata": {
        "id": "9udlde-wS5ZC",
        "colab_type": "code",
        "colab": {}
      },
      "source": [
        "#Importando o dataset e ajustando para formato numérico\n",
        "dataset = pd.read_csv('https://raw.githubusercontent.com/Zamariolo/Datasets/master/isolamento.csv')\n",
        "\n",
        "#Transforma a coluna taxa de isolamento (str) em formato numérico\n",
        "isolamento_str = dataset['Índice de isolamento']\n",
        "isolamento_num = []\n",
        "for i in isolamento_str:\n",
        "  num = float(i[:-1])/100.0\n",
        "  isolamento_num.append(num)\n",
        "\n",
        "dataset['isolamento_num'] = isolamento_num"
      ],
      "execution_count": 0,
      "outputs": []
    },
    {
      "cell_type": "code",
      "metadata": {
        "id": "Jwq-NqAVo_NK",
        "colab_type": "code",
        "outputId": "ba4da037-ba2d-4107-dd34-03023bf98241",
        "colab": {
          "base_uri": "https://localhost:8080/",
          "height": 359
        }
      },
      "source": [
        "#Inserindo o dia da semana nos dados\n",
        "DIAS = ['Segunda-feira','Terça-feira','Quarta-feira','Quinta-Feira','Sexta-feira','Sábado','Domingo']\n",
        "dia_da_semana = []\n",
        "\n",
        "for data in dataset['DATA']:\n",
        "  dia = data[:2]\n",
        "  mes = data[3:5]\n",
        "  ano = data[6:]\n",
        "  diaSemana = date(year=int(ano), month=int(mes), day=int(dia)).weekday()\n",
        "  dia_da_semana.append(DIAS[diaSemana])\n",
        "\n",
        "dataset['Dia da semana'] = dia_da_semana\n",
        "dataset.head(10)"
      ],
      "execution_count": 0,
      "outputs": [
        {
          "output_type": "execute_result",
          "data": {
            "text/html": [
              "<div>\n",
              "<style scoped>\n",
              "    .dataframe tbody tr th:only-of-type {\n",
              "        vertical-align: middle;\n",
              "    }\n",
              "\n",
              "    .dataframe tbody tr th {\n",
              "        vertical-align: top;\n",
              "    }\n",
              "\n",
              "    .dataframe thead th {\n",
              "        text-align: right;\n",
              "    }\n",
              "</style>\n",
              "<table border=\"1\" class=\"dataframe\">\n",
              "  <thead>\n",
              "    <tr style=\"text-align: right;\">\n",
              "      <th></th>\n",
              "      <th>Unnamed: 0</th>\n",
              "      <th>Cdufmun</th>\n",
              "      <th>Município</th>\n",
              "      <th>DATA</th>\n",
              "      <th>Número de registros</th>\n",
              "      <th>População</th>\n",
              "      <th>UF</th>\n",
              "      <th>Índice de isolamento</th>\n",
              "      <th>isolamento_num</th>\n",
              "      <th>Dia da semana</th>\n",
              "    </tr>\n",
              "  </thead>\n",
              "  <tbody>\n",
              "    <tr>\n",
              "      <th>0</th>\n",
              "      <td>0</td>\n",
              "      <td>3530706</td>\n",
              "      <td>Mogi Guaçu</td>\n",
              "      <td>05/03/2020</td>\n",
              "      <td>1</td>\n",
              "      <td>151888</td>\n",
              "      <td>SP</td>\n",
              "      <td>40%</td>\n",
              "      <td>0.40</td>\n",
              "      <td>Quinta-Feira</td>\n",
              "    </tr>\n",
              "    <tr>\n",
              "      <th>1</th>\n",
              "      <td>1</td>\n",
              "      <td>3530706</td>\n",
              "      <td>Mogi Guaçu</td>\n",
              "      <td>06/03/2020</td>\n",
              "      <td>1</td>\n",
              "      <td>151888</td>\n",
              "      <td>SP</td>\n",
              "      <td>38%</td>\n",
              "      <td>0.38</td>\n",
              "      <td>Sexta-feira</td>\n",
              "    </tr>\n",
              "    <tr>\n",
              "      <th>2</th>\n",
              "      <td>2</td>\n",
              "      <td>3530706</td>\n",
              "      <td>Mogi Guaçu</td>\n",
              "      <td>12/03/2020</td>\n",
              "      <td>1</td>\n",
              "      <td>151888</td>\n",
              "      <td>SP</td>\n",
              "      <td>35%</td>\n",
              "      <td>0.35</td>\n",
              "      <td>Quinta-Feira</td>\n",
              "    </tr>\n",
              "    <tr>\n",
              "      <th>3</th>\n",
              "      <td>3</td>\n",
              "      <td>3530706</td>\n",
              "      <td>Mogi Guaçu</td>\n",
              "      <td>13/03/2020</td>\n",
              "      <td>1</td>\n",
              "      <td>151888</td>\n",
              "      <td>SP</td>\n",
              "      <td>37%</td>\n",
              "      <td>0.37</td>\n",
              "      <td>Sexta-feira</td>\n",
              "    </tr>\n",
              "    <tr>\n",
              "      <th>4</th>\n",
              "      <td>4</td>\n",
              "      <td>3530706</td>\n",
              "      <td>Mogi Guaçu</td>\n",
              "      <td>17/03/2020</td>\n",
              "      <td>1</td>\n",
              "      <td>151888</td>\n",
              "      <td>SP</td>\n",
              "      <td>43%</td>\n",
              "      <td>0.43</td>\n",
              "      <td>Terça-feira</td>\n",
              "    </tr>\n",
              "    <tr>\n",
              "      <th>5</th>\n",
              "      <td>5</td>\n",
              "      <td>3530706</td>\n",
              "      <td>Mogi Guaçu</td>\n",
              "      <td>18/03/2020</td>\n",
              "      <td>1</td>\n",
              "      <td>151888</td>\n",
              "      <td>SP</td>\n",
              "      <td>42%</td>\n",
              "      <td>0.42</td>\n",
              "      <td>Quarta-feira</td>\n",
              "    </tr>\n",
              "    <tr>\n",
              "      <th>6</th>\n",
              "      <td>6</td>\n",
              "      <td>3530706</td>\n",
              "      <td>Mogi Guaçu</td>\n",
              "      <td>19/03/2020</td>\n",
              "      <td>1</td>\n",
              "      <td>151888</td>\n",
              "      <td>SP</td>\n",
              "      <td>44%</td>\n",
              "      <td>0.44</td>\n",
              "      <td>Quinta-Feira</td>\n",
              "    </tr>\n",
              "    <tr>\n",
              "      <th>7</th>\n",
              "      <td>7</td>\n",
              "      <td>3530706</td>\n",
              "      <td>Mogi Guaçu</td>\n",
              "      <td>20/03/2020</td>\n",
              "      <td>1</td>\n",
              "      <td>151888</td>\n",
              "      <td>SP</td>\n",
              "      <td>46%</td>\n",
              "      <td>0.46</td>\n",
              "      <td>Sexta-feira</td>\n",
              "    </tr>\n",
              "    <tr>\n",
              "      <th>8</th>\n",
              "      <td>8</td>\n",
              "      <td>3530706</td>\n",
              "      <td>Mogi Guaçu</td>\n",
              "      <td>21/03/2020</td>\n",
              "      <td>1</td>\n",
              "      <td>151888</td>\n",
              "      <td>SP</td>\n",
              "      <td>58%</td>\n",
              "      <td>0.58</td>\n",
              "      <td>Sábado</td>\n",
              "    </tr>\n",
              "    <tr>\n",
              "      <th>9</th>\n",
              "      <td>9</td>\n",
              "      <td>3530706</td>\n",
              "      <td>Mogi Guaçu</td>\n",
              "      <td>22/03/2020</td>\n",
              "      <td>1</td>\n",
              "      <td>151888</td>\n",
              "      <td>SP</td>\n",
              "      <td>57%</td>\n",
              "      <td>0.57</td>\n",
              "      <td>Domingo</td>\n",
              "    </tr>\n",
              "  </tbody>\n",
              "</table>\n",
              "</div>"
            ],
            "text/plain": [
              "   Unnamed: 0  Cdufmun  ... isolamento_num Dia da semana\n",
              "0           0  3530706  ...           0.40  Quinta-Feira\n",
              "1           1  3530706  ...           0.38   Sexta-feira\n",
              "2           2  3530706  ...           0.35  Quinta-Feira\n",
              "3           3  3530706  ...           0.37   Sexta-feira\n",
              "4           4  3530706  ...           0.43   Terça-feira\n",
              "5           5  3530706  ...           0.42  Quarta-feira\n",
              "6           6  3530706  ...           0.44  Quinta-Feira\n",
              "7           7  3530706  ...           0.46   Sexta-feira\n",
              "8           8  3530706  ...           0.58        Sábado\n",
              "9           9  3530706  ...           0.57       Domingo\n",
              "\n",
              "[10 rows x 10 columns]"
            ]
          },
          "metadata": {
            "tags": []
          },
          "execution_count": 62
        }
      ]
    },
    {
      "cell_type": "code",
      "metadata": {
        "id": "28U1crPtvOWo",
        "colab_type": "code",
        "outputId": "96a8a91c-1b4b-4db9-fbf5-ecb7a4457dc1",
        "colab": {
          "base_uri": "https://localhost:8080/",
          "height": 578
        }
      },
      "source": [
        "plt.figure(figsize=(16,8))\n",
        "plt.plot(dataset.DATA, dataset['isolamento_num'], linewidth=4, color='darkorange')\n",
        "plt.grid(alpha=0.1)\n",
        "plt.ylabel(\"Taxa de isolamento\", fontsize=12)\n",
        "plt.xlabel(\"Data\", fontsize=12)\n",
        "plt.xticks(dataset.DATA, rotation=280, fontsize=12)\n",
        "plt.title(\"Taxa de isolamento por data em Mogi Guaçu\", fontsize=15)\n",
        "\n",
        "#Texto\n",
        "for i in range(len(dataset.DATA)):\n",
        "    plt.text(dataset.DATA.iloc[i], dataset.isolamento_num.iloc[i], (\"%.0f%%\" %(dataset.isolamento_num.iloc[i]*100)), fontsize=13, color='black')"
      ],
      "execution_count": 0,
      "outputs": [
        {
          "output_type": "display_data",
          "data": {
            "image/png": "[encoded data removed]",
            "text/plain": [
              "<Figure size 1152x576 with 1 Axes>"
            ]
          },
          "metadata": {
            "tags": [],
            "needs_background": "light"
          }
        }
      ]
    },
    {
      "cell_type": "markdown",
      "metadata": {
        "id": "XAS-rc57VQmA",
        "colab_type": "text"
      },
      "source": [
        "# Quem coleta e como são coletados os dados de isolamento em Mogi Guaçu?"
      ]
    },
    {
      "cell_type": "markdown",
      "metadata": {
        "id": "OyIz0jd8V3WB",
        "colab_type": "text"
      },
      "source": [
        "Os dados são coletados pelo Sistema de Monitoramento Inteligente do Governo de São Paulo em parceria com as operadoras de telefonia Vivo, Claro, Oi e TIM, que analisa os dados de telefonia móvel, de forma anonima e agrupada, sem desrespeitar a privacidade dos usuários.\n",
        "\n",
        "Os dados aqui utilizados são obtidos diretamente pelo link: https://www.saopaulo.sp.gov.br/coronavirus/isolamento\n",
        "\n"
      ]
    },
    {
      "cell_type": "markdown",
      "metadata": {
        "id": "k7pnpEf1Tu-3",
        "colab_type": "text"
      },
      "source": [
        "# Quais são as informações contidas nestes dados?"
      ]
    },
    {
      "cell_type": "code",
      "metadata": {
        "id": "1iXik2qGT1Df",
        "colab_type": "code",
        "outputId": "d936a166-6f12-4bfa-fa35-ed12edc2c2b1",
        "colab": {
          "base_uri": "https://localhost:8080/",
          "height": 204
        }
      },
      "source": [
        "dataset.head()"
      ],
      "execution_count": 0,
      "outputs": [
        {
          "output_type": "execute_result",
          "data": {
            "text/html": [
              "<div>\n",
              "<style scoped>\n",
              "    .dataframe tbody tr th:only-of-type {\n",
              "        vertical-align: middle;\n",
              "    }\n",
              "\n",
              "    .dataframe tbody tr th {\n",
              "        vertical-align: top;\n",
              "    }\n",
              "\n",
              "    .dataframe thead th {\n",
              "        text-align: right;\n",
              "    }\n",
              "</style>\n",
              "<table border=\"1\" class=\"dataframe\">\n",
              "  <thead>\n",
              "    <tr style=\"text-align: right;\">\n",
              "      <th></th>\n",
              "      <th>Unnamed: 0</th>\n",
              "      <th>Cdufmun</th>\n",
              "      <th>Município</th>\n",
              "      <th>DATA</th>\n",
              "      <th>Número de registros</th>\n",
              "      <th>População</th>\n",
              "      <th>UF</th>\n",
              "      <th>Índice de isolamento</th>\n",
              "      <th>isolamento_num</th>\n",
              "      <th>Dia da semana</th>\n",
              "    </tr>\n",
              "  </thead>\n",
              "  <tbody>\n",
              "    <tr>\n",
              "      <th>0</th>\n",
              "      <td>0</td>\n",
              "      <td>3530706</td>\n",
              "      <td>Mogi Guaçu</td>\n",
              "      <td>05/03/2020</td>\n",
              "      <td>1</td>\n",
              "      <td>151888</td>\n",
              "      <td>SP</td>\n",
              "      <td>40%</td>\n",
              "      <td>0.40</td>\n",
              "      <td>Quinta-Feira</td>\n",
              "    </tr>\n",
              "    <tr>\n",
              "      <th>1</th>\n",
              "      <td>1</td>\n",
              "      <td>3530706</td>\n",
              "      <td>Mogi Guaçu</td>\n",
              "      <td>06/03/2020</td>\n",
              "      <td>1</td>\n",
              "      <td>151888</td>\n",
              "      <td>SP</td>\n",
              "      <td>38%</td>\n",
              "      <td>0.38</td>\n",
              "      <td>Sexta-feira</td>\n",
              "    </tr>\n",
              "    <tr>\n",
              "      <th>2</th>\n",
              "      <td>2</td>\n",
              "      <td>3530706</td>\n",
              "      <td>Mogi Guaçu</td>\n",
              "      <td>12/03/2020</td>\n",
              "      <td>1</td>\n",
              "      <td>151888</td>\n",
              "      <td>SP</td>\n",
              "      <td>35%</td>\n",
              "      <td>0.35</td>\n",
              "      <td>Quinta-Feira</td>\n",
              "    </tr>\n",
              "    <tr>\n",
              "      <th>3</th>\n",
              "      <td>3</td>\n",
              "      <td>3530706</td>\n",
              "      <td>Mogi Guaçu</td>\n",
              "      <td>13/03/2020</td>\n",
              "      <td>1</td>\n",
              "      <td>151888</td>\n",
              "      <td>SP</td>\n",
              "      <td>37%</td>\n",
              "      <td>0.37</td>\n",
              "      <td>Sexta-feira</td>\n",
              "    </tr>\n",
              "    <tr>\n",
              "      <th>4</th>\n",
              "      <td>4</td>\n",
              "      <td>3530706</td>\n",
              "      <td>Mogi Guaçu</td>\n",
              "      <td>17/03/2020</td>\n",
              "      <td>1</td>\n",
              "      <td>151888</td>\n",
              "      <td>SP</td>\n",
              "      <td>43%</td>\n",
              "      <td>0.43</td>\n",
              "      <td>Terça-feira</td>\n",
              "    </tr>\n",
              "  </tbody>\n",
              "</table>\n",
              "</div>"
            ],
            "text/plain": [
              "   Unnamed: 0  Cdufmun  ... isolamento_num Dia da semana\n",
              "0           0  3530706  ...           0.40  Quinta-Feira\n",
              "1           1  3530706  ...           0.38   Sexta-feira\n",
              "2           2  3530706  ...           0.35  Quinta-Feira\n",
              "3           3  3530706  ...           0.37   Sexta-feira\n",
              "4           4  3530706  ...           0.43   Terça-feira\n",
              "\n",
              "[5 rows x 10 columns]"
            ]
          },
          "metadata": {
            "tags": []
          },
          "execution_count": 63
        }
      ]
    },
    {
      "cell_type": "markdown",
      "metadata": {
        "id": "lo5FD9PNT72f",
        "colab_type": "text"
      },
      "source": [
        "\n",
        "\n",
        "*   **Cdufmun**: Código federal do munícipio;\n",
        "*   **Munícipio**: Nome do munícipio;\n",
        "*   **DATA**: dia, mês e ano da informação;\n",
        "*   **População**: população estimada pelo IBGE para o ano de 2020 (151888 pessoas);\n",
        "*   **Índice de isolamento**: Taxa de pessoas que permanecerem em casa segundo dados do SIMI-SP;\n",
        "*   **isolamento_num**: Taxa de isolamento em formato numérico;\n",
        "*   **Dia da semana**: Dia da semana (segunda, terça, etc...) da informação coletada.\n",
        "\n"
      ]
    },
    {
      "cell_type": "markdown",
      "metadata": {
        "id": "On1bq-0TUxST",
        "colab_type": "text"
      },
      "source": [
        "# Quando o isolamento começou a ser monitorado em Mogi Guaçu?"
      ]
    },
    {
      "cell_type": "code",
      "metadata": {
        "id": "52NesrS1U7Xp",
        "colab_type": "code",
        "outputId": "dfd99ae0-1ce8-4901-fede-b6b79667d916",
        "colab": {
          "base_uri": "https://localhost:8080/",
          "height": 34
        }
      },
      "source": [
        "dataset.DATA.min()"
      ],
      "execution_count": 0,
      "outputs": [
        {
          "output_type": "execute_result",
          "data": {
            "text/plain": [
              "'01/04/2020'"
            ]
          },
          "metadata": {
            "tags": []
          },
          "execution_count": 64
        }
      ]
    },
    {
      "cell_type": "markdown",
      "metadata": {
        "id": "NxjQG0NsVbIZ",
        "colab_type": "text"
      },
      "source": [
        "Dia 01/04/2020"
      ]
    },
    {
      "cell_type": "markdown",
      "metadata": {
        "id": "a5X0NjhdXEkF",
        "colab_type": "text"
      },
      "source": [
        "# Qual foi a média de isolamento em Mogi Guaçu desde o primeiro dia de monitoramento?"
      ]
    },
    {
      "cell_type": "code",
      "metadata": {
        "id": "1LszxDPXXI4V",
        "colab_type": "code",
        "outputId": "f9bc6af7-5d81-467c-f2cd-11b494eb1d77",
        "colab": {
          "base_uri": "https://localhost:8080/",
          "height": 34
        }
      },
      "source": [
        "dataset['isolamento_num'].mean()\n",
        "print(\"O isolamento médio, considerando todos os dados coletados desde o dia %s é de %.2f%%\" %(dataset.DATA.min(),dataset['isolamento_num'].mean()*100))"
      ],
      "execution_count": 0,
      "outputs": [
        {
          "output_type": "stream",
          "text": [
            "O isolamento médio, considerando todos os dados coletados desde o dia 01/04/2020 é de 50.88%\n"
          ],
          "name": "stdout"
        }
      ]
    },
    {
      "cell_type": "markdown",
      "metadata": {
        "id": "dypDQtY3YIq3",
        "colab_type": "text"
      },
      "source": [
        "# Qual foi a taxa de isolamento média nos últimos 7 dias?"
      ]
    },
    {
      "cell_type": "code",
      "metadata": {
        "id": "qZO7OdXxYNfc",
        "colab_type": "code",
        "outputId": "48c0683d-8748-4b77-9fff-fe19a9b3e4dc",
        "colab": {
          "base_uri": "https://localhost:8080/",
          "height": 102
        }
      },
      "source": [
        "#Tirando valores medios dos ultimos 7 dias\n",
        "ultimo7 = dataset.iloc[-7:, :]\n",
        "mediaIsolamento = ultimo7.isolamento_num.mean()\n",
        "populacao = dataset['População'].min()\n",
        "print(\"Taxa de isolamento média dos últimos 7 dias: %.2f%%\" %(mediaIsolamento*100))\n",
        "print(\"Número de pessoas médias em isolamento nos últimos 7 dias: %.0f pessoas\" %(populacao*mediaIsolamento))\n",
        "print(\"Número de pessoas médias circulando nas ruas nos últimos 7 dias: %.0f pessoas\" %(populacao*(1-mediaIsolamento)))\n",
        "print(\"\\n Obs: Considerando a população estimada de 151888 habitantes\")"
      ],
      "execution_count": 0,
      "outputs": [
        {
          "output_type": "stream",
          "text": [
            "Taxa de isolamento média dos últimos 7 dias: 48.86%\n",
            "Número de pessoas médias em isolamento nos últimos 7 dias: 74208 pessoas\n",
            "Número de pessoas médias circulando nas ruas nos últimos 7 dias: 77680 pessoas\n",
            "\n",
            " Obs: Considerando a população estimada de 151888 habitantes\n"
          ],
          "name": "stdout"
        }
      ]
    },
    {
      "cell_type": "markdown",
      "metadata": {
        "id": "clxomKsLlfx6",
        "colab_type": "text"
      },
      "source": [
        "# Quais dias Mogi Guaçu obteve as maiores taxas de isolamento?"
      ]
    },
    {
      "cell_type": "code",
      "metadata": {
        "id": "FhPrLTS6lkAL",
        "colab_type": "code",
        "outputId": "9f7f23c4-e0b5-4f8d-927b-d63c164891c2",
        "colab": {
          "base_uri": "https://localhost:8080/",
          "height": 359
        }
      },
      "source": [
        "dataset.sort_values('isolamento_num', ascending=False)[['DATA', 'Índice de isolamento']].head(10)"
      ],
      "execution_count": 0,
      "outputs": [
        {
          "output_type": "execute_result",
          "data": {
            "text/html": [
              "<div>\n",
              "<style scoped>\n",
              "    .dataframe tbody tr th:only-of-type {\n",
              "        vertical-align: middle;\n",
              "    }\n",
              "\n",
              "    .dataframe tbody tr th {\n",
              "        vertical-align: top;\n",
              "    }\n",
              "\n",
              "    .dataframe thead th {\n",
              "        text-align: right;\n",
              "    }\n",
              "</style>\n",
              "<table border=\"1\" class=\"dataframe\">\n",
              "  <thead>\n",
              "    <tr style=\"text-align: right;\">\n",
              "      <th></th>\n",
              "      <th>DATA</th>\n",
              "      <th>Índice de isolamento</th>\n",
              "    </tr>\n",
              "  </thead>\n",
              "  <tbody>\n",
              "    <tr>\n",
              "      <th>28</th>\n",
              "      <td>10/04/2020</td>\n",
              "      <td>61%</td>\n",
              "    </tr>\n",
              "    <tr>\n",
              "      <th>16</th>\n",
              "      <td>29/03/2020</td>\n",
              "      <td>59%</td>\n",
              "    </tr>\n",
              "    <tr>\n",
              "      <th>37</th>\n",
              "      <td>19/04/2020</td>\n",
              "      <td>58%</td>\n",
              "    </tr>\n",
              "    <tr>\n",
              "      <th>23</th>\n",
              "      <td>05/04/2020</td>\n",
              "      <td>58%</td>\n",
              "    </tr>\n",
              "    <tr>\n",
              "      <th>22</th>\n",
              "      <td>04/04/2020</td>\n",
              "      <td>58%</td>\n",
              "    </tr>\n",
              "    <tr>\n",
              "      <th>8</th>\n",
              "      <td>21/03/2020</td>\n",
              "      <td>58%</td>\n",
              "    </tr>\n",
              "    <tr>\n",
              "      <th>39</th>\n",
              "      <td>21/04/2020</td>\n",
              "      <td>57%</td>\n",
              "    </tr>\n",
              "    <tr>\n",
              "      <th>15</th>\n",
              "      <td>28/03/2020</td>\n",
              "      <td>57%</td>\n",
              "    </tr>\n",
              "    <tr>\n",
              "      <th>30</th>\n",
              "      <td>12/04/2020</td>\n",
              "      <td>57%</td>\n",
              "    </tr>\n",
              "    <tr>\n",
              "      <th>44</th>\n",
              "      <td>26/04/2020</td>\n",
              "      <td>57%</td>\n",
              "    </tr>\n",
              "  </tbody>\n",
              "</table>\n",
              "</div>"
            ],
            "text/plain": [
              "          DATA Índice de isolamento\n",
              "28  10/04/2020                  61%\n",
              "16  29/03/2020                  59%\n",
              "37  19/04/2020                  58%\n",
              "23  05/04/2020                  58%\n",
              "22  04/04/2020                  58%\n",
              "8   21/03/2020                  58%\n",
              "39  21/04/2020                  57%\n",
              "15  28/03/2020                  57%\n",
              "30  12/04/2020                  57%\n",
              "44  26/04/2020                  57%"
            ]
          },
          "metadata": {
            "tags": []
          },
          "execution_count": 67
        }
      ]
    },
    {
      "cell_type": "markdown",
      "metadata": {
        "id": "SNP8WilWq0ep",
        "colab_type": "text"
      },
      "source": [
        "# Finais de semana apresentam taxa de isolamento maior que nos dias de semana?\n",
        "\n"
      ]
    },
    {
      "cell_type": "code",
      "metadata": {
        "id": "HNgYWo0Cq5oe",
        "colab_type": "code",
        "outputId": "9487835f-8153-434b-a2f0-4b9bec95a305",
        "colab": {
          "base_uri": "https://localhost:8080/",
          "height": 572
        }
      },
      "source": [
        "isolamentoFds = dataset[dataset['Dia da semana'].isin(['Sábado', 'Domingo'])]['isolamento_num']\n",
        "isolamentoDiaUtil = dataset[~dataset['Dia da semana'].isin(['Sábado', 'Domingo'])]['isolamento_num']\n",
        "\n",
        "print(\"Considerando todos os dados coletados (desde dia %s):\" %dataset.DATA.min())\n",
        "print(\"Taxa de isolamento média nos finais de semana: %.2f%%\" %(isolamentoFds.mean()*100))\n",
        "print(\"Taxa de isolamento média nos dias uteis: %.2f%%\" %(isolamentoDiaUtil.mean()*100))\n",
        "\n",
        "plt.figure(figsize=(16,8))\n",
        "plt.subplot(1,2,1)\n",
        "plt.title(\"Histograma: Isolamento nos finais de semana\", fontsize=18)\n",
        "plt.ylabel(\"Frequência\", fontsize=14)\n",
        "plt.xlabel(\"Taxa de isolamento\", fontsize=14)\n",
        "plt.hist(isolamentoFds, color='darkviolet')\n",
        "\n",
        "plt.subplot(1,2,2)\n",
        "plt.title(\"Histograma: Isolamento nos dias úteis\", fontsize=18)\n",
        "plt.ylabel(\"Frequência\", fontsize=14)\n",
        "plt.xlabel(\"Taxa de isolamento\", fontsize=14)\n",
        "plt.hist(isolamentoDiaUtil, color='darkorange')\n",
        "plt.show()"
      ],
      "execution_count": 0,
      "outputs": [
        {
          "output_type": "stream",
          "text": [
            "Considerando todos os dados coletados (desde dia 01/04/2020):\n",
            "Taxa de isolamento média nos finais de semana: 56.50%\n",
            "Taxa de isolamento média nos dias uteis: 49.05%\n"
          ],
          "name": "stdout"
        },
        {
          "output_type": "display_data",
          "data": {
            "image/png": "[encoded data removed]",
            "text/plain": [
              "<Figure size 1152x576 with 2 Axes>"
            ]
          },
          "metadata": {
            "tags": [],
            "needs_background": "light"
          }
        }
      ]
    },
    {
      "cell_type": "code",
      "metadata": {
        "id": "DPBD3OLQsDFy",
        "colab_type": "code",
        "colab": {}
      },
      "source": [
        ""
      ],
      "execution_count": 0,
      "outputs": []
    }
  ]
}